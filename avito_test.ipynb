{
 "cells": [
  {
   "cell_type": "markdown",
   "metadata": {},
   "source": [
    "<blockquote><h4><ul><li>Аналитик в компании “Рога и Ко” за день написал некоторое количество\n",
    "SQL-запросов. Все запросы можно охарактеризовать количественной\n",
    "характеристикой сложности выполнения - условная “память”.<br><br>\n",
    "<ul>\n",
    "<li>Три “тяжелейших” (7/20 общей затраченной памяти) запроса превысили\n",
    "максимальное время выполнения и были отключены системой.</li>\n",
    "<li>Три “легчайших” (5/13 затраченной памяти всех оставшихся запросов)\n",
    "выполнялись менее 10 минут каждый.</li><li>Остальные запросы выполнялись\n",
    "менее получаса каждый.</li>\n",
    "</ul></li><br>\n",
    "Найдите общее количество запросов, которое написал аналитик<br>\n",
    "Дайте оценку на среднее время успешно выполненного запроса</ul>\n",
    "</h4></blockquote>"
   ]
  },
  {
   "cell_type": "markdown",
   "metadata": {},
   "source": [
    "Допустим, что все запросы соответсвующих типов (\"тяжелейшие\", \"средние\", \"легчайшие\") тратят одинаковое количество памяти.\n",
    "Тогда:\n",
    "<ul>\n",
    "<li>Один \"тяжелейший\" запрос тратит $\\frac{7}{3}=2.333..$</li>\n",
    "<li>Один \"легчайший запрос тратит $\\frac{5}{3}=1.666..$</li>\n",
    "<li>Каждый \"средний\" запрос тратит $\\frac{8}{n}$ памяти, где $n$ - количество \"средних\" запросов.</li>\n",
    "</ul>"
   ]
  },
  {
   "cell_type": "markdown",
   "metadata": {},
   "source": [
    "Так как $1.666 < \\frac{8}{n} < 2.333$ и $n \\in {N}$, то $n = 4$."
   ]
  },
  {
   "cell_type": "markdown",
   "metadata": {},
   "source": [
    "**Общее количество запросов = 10.**"
   ]
  },
  {
   "cell_type": "markdown",
   "metadata": {},
   "source": [
    "Для оценки среднего времени выполнения запроса воспользуемся методом Монте-Карло, допуская, что время запроса распределено равномерно."
   ]
  },
  {
   "cell_type": "code",
   "execution_count": 1,
   "metadata": {},
   "outputs": [],
   "source": [
    "import numpy as np\n",
    "import pylab as plb"
   ]
  },
  {
   "cell_type": "code",
   "execution_count": 2,
   "metadata": {},
   "outputs": [],
   "source": [
    "N=10000"
   ]
  },
  {
   "cell_type": "code",
   "execution_count": 3,
   "metadata": {},
   "outputs": [
    {
     "data": {
      "text/plain": [
       "array([[6.71483258, 4.82239988, 5.23828369],\n",
       "       [7.70976928, 2.9928104 , 5.31899896],\n",
       "       [4.13556457, 3.2531705 , 9.71991729],\n",
       "       [6.68748077, 8.74867445, 3.79926059],\n",
       "       [3.78917967, 3.41348057, 5.57499283]])"
      ]
     },
     "execution_count": 3,
     "metadata": {},
     "output_type": "execute_result"
    }
   ],
   "source": [
    "easy_reqs = np.random.uniform(0, 10, (N, 3))\n",
    "easy_reqs[:5]"
   ]
  },
  {
   "cell_type": "code",
   "execution_count": 4,
   "metadata": {},
   "outputs": [
    {
     "data": {
      "text/plain": [
       "array([[25.67961131, 11.43167275, 20.17891787, 29.95302945],\n",
       "       [24.09236179, 25.47579195, 10.85453665, 15.95161782],\n",
       "       [14.4083253 , 20.34194734, 19.31566007, 21.38350917],\n",
       "       [29.13638159, 11.13101245, 10.96033803, 17.93993251],\n",
       "       [29.25214466, 14.90436849, 19.65991875, 23.6123773 ]])"
      ]
     },
     "execution_count": 4,
     "metadata": {},
     "output_type": "execute_result"
    }
   ],
   "source": [
    "mid_reqs = np.random.uniform(10, 30, (N, 4))\n",
    "mid_reqs[:5]"
   ]
  },
  {
   "cell_type": "code",
   "execution_count": 5,
   "metadata": {},
   "outputs": [
    {
     "data": {
      "text/plain": [
       "array([[ 6.71483258,  4.82239988,  5.23828369, 25.67961131, 11.43167275,\n",
       "        20.17891787, 29.95302945],\n",
       "       [ 7.70976928,  2.9928104 ,  5.31899896, 24.09236179, 25.47579195,\n",
       "        10.85453665, 15.95161782],\n",
       "       [ 4.13556457,  3.2531705 ,  9.71991729, 14.4083253 , 20.34194734,\n",
       "        19.31566007, 21.38350917],\n",
       "       [ 6.68748077,  8.74867445,  3.79926059, 29.13638159, 11.13101245,\n",
       "        10.96033803, 17.93993251],\n",
       "       [ 3.78917967,  3.41348057,  5.57499283, 29.25214466, 14.90436849,\n",
       "        19.65991875, 23.6123773 ]])"
      ]
     },
     "execution_count": 5,
     "metadata": {},
     "output_type": "execute_result"
    }
   ],
   "source": [
    "reqs = np.hstack((easy_reqs, mid_reqs))\n",
    "reqs[:5]"
   ]
  },
  {
   "cell_type": "code",
   "execution_count": 6,
   "metadata": {},
   "outputs": [
    {
     "data": {
      "image/png": "[encoded data removed]",
      "text/plain": [
       "<Figure size 432x288 with 1 Axes>"
      ]
     },
     "metadata": {
      "needs_background": "light"
     },
     "output_type": "display_data"
    }
   ],
   "source": [
    "means = reqs.mean(axis=1)\n",
    "mean = means.mean()\n",
    "_ = plb.hist(means, bins = int(np.sqrt(N)/3), rwidth=0.8, density = True)\n",
    "plb.axvline(x = mean, color='r', lw = 2, label = 'mean = {}'.format(np.round(mean, 3)))\n",
    "plb.title('Распределение среднего времени\\nвыполнения запроса')\n",
    "plb.legend()\n",
    "plb.show()"
   ]
  },
  {
   "cell_type": "markdown",
   "metadata": {},
   "source": [
    "**Среднее время успешно выполненного запроса равняется $13.572$ минут**"
   ]
  },
  {
   "cell_type": "markdown",
   "metadata": {},
   "source": [
    "<blockquote><h4><ul><li>В команде есть два стажера-аналитика. Правильный ответ каждый из\n",
    "стажеров получает в 14 из 17 случаев. Чтобы быть более уверенным в\n",
    "важном решении, менеджер решил дать одну и ту же задачу сразу обоим\n",
    "аналитикам: если оба получают одинаковый ответ, то менеджер его\n",
    "использует, а если ответы разные - выберет один из них наугад. Насколько\n",
    "такой способ повышает шансы менеджера принять верное решение?</li></ul></h4></blockquote>"
   ]
  },
  {
   "cell_type": "markdown",
   "metadata": {},
   "source": [
    "$p = \\frac{14}{17}$ - вероятность получения правильного ответа."
   ]
  },
  {
   "cell_type": "markdown",
   "metadata": {},
   "source": [
    "Так как ответы аналитиков независимы друг от друга, то таблица совместности выглядит следующим образом:"
   ]
  },
  {
   "cell_type": "markdown",
   "metadata": {},
   "source": [
    "|   | Первый аналитик<br>получил правильный<br>ответ | Первый аналитик<br>ошибся |\n",
    "|---|------------------------------------------|------------------------|\n",
    "|**Второй аналитик<br>получил правильный<br>ответ**|$$\\frac{196}{289} = 0.678$$|$$\\frac{42}{289} = 0.145$$|\n",
    "|**Второй аналитик<br>ошибся**|$$\\frac{42}{289} = 0.145$$|$$\\frac{9}{289} = 0.031$$|"
   ]
  },
  {
   "cell_type": "markdown",
   "metadata": {},
   "source": [
    "Вероятность того, что менеджер выберет правильный ответ, при условии, что один из аналитиков ошибся, равняется $\\frac{1}{2}$.<br>\n",
    "Следовательно, вероятность получить правильный ответ равняется $0.678 + \\frac{1}{2}{0.145} + \\frac{1}{2}{0.145} = 0.824 = \\frac{14}{17}$ "
   ]
  },
  {
   "cell_type": "markdown",
   "metadata": {},
   "source": [
    "**Ответ: такой подход никак не влияет на принятие верного решения**"
   ]
  },
  {
   "cell_type": "markdown",
   "metadata": {},
   "source": [
    "<blockquote><h4><ul><li>В мешке лежат три кубика: 6-гранный, 12-гранный, 20-гранный. Мы достали\n",
    "один кубик наудачу, подкинули его и на нем выпало 4. Какова вероятность,\n",
    "что если мы так же достанем и подкинем один из оставшихся в мешке\n",
    "кубиков, на нем выпадет меньше?\n",
    "</li></ul></h4></blockquote>"
   ]
  },
  {
   "cell_type": "markdown",
   "metadata": {},
   "source": [
    "Количество комбинаций кубиков в таком случае будет равно 6:\n",
    "<ul>\n",
    "    <li>вытащили 6-гранный кубик, вытащили 12-гранный</li>\n",
    "    <li>вытащили 6-гранный кубик, вытащили 20-гранный</li>\n",
    "    <li>вытащили 12-гранный кубик, вытащили 6-гранный</li>\n",
    "    <li>вытащили 12-гранный кубик, вытащили 20-гранный</li>\n",
    "    <li>вытащили 20-гранный кубик, вытащили 6-гранный</li>\n",
    "    <li>вытащили 20-гранный кубик, вытащили 12-гранный</li>\n",
    "</ul>"
   ]
  },
  {
   "cell_type": "markdown",
   "metadata": {},
   "source": [
    "Вероятность каждого из этих исходов $p = \\frac{1}{6}$."
   ]
  },
  {
   "cell_type": "markdown",
   "metadata": {},
   "source": [
    "Вероятности выпасть у кубиков значения меньше 4 равны $\\frac{3}{6}$, $\\frac{3}{12}$ и $\\frac{3}{20}$ соответсвенно."
   ]
  },
  {
   "cell_type": "markdown",
   "metadata": {},
   "source": [
    "**Искомая вероятность равна: $$\\frac{1}{6} \\frac{3}{12} + \\frac{1}{6} \\frac{3}{20} + \\frac{1}{6} \\frac{3}{6} + \\frac{1}{6} \\frac{3}{20} + \\frac{1}{6} \\frac{3}{6} + \\frac{1}{6} \\frac{3}{12} = \\frac{3}{10}$$**"
   ]
  },
  {
   "cell_type": "markdown",
   "metadata": {},
   "source": [
    "<blockquote><h4><ul><li>Чтобы между пользователями Авито было больше доверия, а жизнь\n",
    "мошенников стала сложнее, мы решили попробовать ввести систему\n",
    "отзывов: покупатель может оставить отзыв на продавца. Отзыв может быть\n",
    "\n",
    "просто рейтингом (1-5 звездочек), а может содержать дополнительно какой-\n",
    "то произвольный текст.<br>\n",
    "    \n",
    "4.1 Предложите метрики, по которым можно будет следить за прогрессом такого\n",
    "проекта и определять его успешность.<br><br>\n",
    "4.2 Поскольку Авито не магазин, а площадка для связи покупателя и продавца, мы\n",
    "в большинстве случаев не знаем, произошла ли в действительности сделка и на\n",
    "каких условиях. Для большинства сделок последнее, что нам известно -\n",
    "покупатель нажал кнопку просмотра телефона продавца или связался с ним в\n",
    "чате. Также мы всегда знаем логин (привязанный к email и телефону) продавца,\n",
    "но покупатель может быть незалогиненным. В связи с этим кажется, что есть\n",
    "большой риск накрутки отзывов и недобросовестного использования системы:\n",
    "например, профессиональные участники будут пытаться оставлять негативные\n",
    "отзывы на своих конкурентов и хвалебные на себя. Предположим, что система\n",
    "некоторое время уже работает и у нас есть данные по отзывам и всей активности\n",
    "клиентов: что продавал, что искал, на каких объявлениях смотрел телефоны и\n",
    "т.п.<br><br>\n",
    "Как оценить масштабы накрутки, т.е. долю фальшивых отзывов?\n",
    "    </li></ul></h4></blockquote>"
   ]
  },
  {
   "cell_type": "markdown",
   "metadata": {},
   "source": [
    "4.1 Главными метриками являются:\n",
    "<ul><li>Изменение активности пользователей. Если количество пользователей увеличилось и покупатели стали чаще звонить/писать продавцам, то проект можно считать успешным</li>\n",
    "    <li>Доля фальшивых отзывов</li>\n",
    "</ul>"
   ]
  },
  {
   "cell_type": "markdown",
   "metadata": {},
   "source": [
    "4.2 Отзывы покупателей можно считать фальшивыми, если:\n",
    "<ul>\n",
    "<li>покупатель не смотрел номер телефона продавца и не писал ему</li>\n",
    "<li>у покупателя скудная история поиска и он просмотрел мало предложений</li>\n",
    "<li>покупатель оставил много отзывов за короткий промежуток времени</li>\n",
    "<li>за короткий промежуток времени у продавца появилось много отзывов, выбивающихся из статистики</li>\n",
    "</ul>"
   ]
  }
 ],
 "metadata": {
  "kernelspec": {
   "display_name": "Python 3",
   "language": "python",
   "name": "python3"
  },
  "language_info": {
   "codemirror_mode": {
    "name": "ipython",
    "version": 3
   },
   "file_extension": ".py",
   "mimetype": "text/x-python",
   "name": "python",
   "nbconvert_exporter": "python",
   "pygments_lexer": "ipython3",
   "version": "3.7.4"
  }
 },
 "nbformat": 4,
 "nbformat_minor": 4
}
